{
 "cells": [
  {
   "cell_type": "code",
   "execution_count": 1,
   "metadata": {},
   "outputs": [],
   "source": [
    "import numpy as np\n",
    "# import gym\n",
    "\n",
    "import matplotlib\n",
    "\n",
    "import matplotlib.pyplot as plt\n",
    "\n"
   ]
  },
  {
   "cell_type": "code",
   "execution_count": 2,
   "metadata": {},
   "outputs": [],
   "source": [
    "import gymnasium as gym\n",
    "from gymnasium.envs.toy_text.frozen_lake import generate_random_map"
   ]
  },
  {
   "cell_type": "code",
   "execution_count": 19,
   "metadata": {},
   "outputs": [
    {
     "name": "stdout",
     "output_type": "stream",
     "text": [
      "<class 'gymnasium.wrappers.time_limit.TimeLimit'>\n",
      "observation: 0 reward: 0.0 done: False done1 False info: {'prob': 0.3333333333333333}\n"
     ]
    }
   ],
   "source": [
    "env = gym.make(\"FrozenLake-v1\", desc=generate_random_map(size=16), render_mode=\"human\", is_slippery=True)\n",
    "print(type(env))\n",
    "state, info = env.reset(seed=42)\n",
    "\n",
    "action_space_size = env.action_space.n\n",
    "stat_space_size = env.observation_space.n\n",
    "\n",
    "state = env.reset()[0] \n",
    "# print(\"Initial state:\", state)\n",
    "action = env.action_space.sample()\n",
    "# get feedback from the environment\n",
    "\n",
    "obvervation, reward, done, done1, info = env.step(action)\n",
    "print(\"observation:\", obvervation, \"reward:\", reward, \"done:\", done, \"done1\", done1, \"info:\", info)"
   ]
  },
  {
   "cell_type": "code",
   "execution_count": 5,
   "metadata": {},
   "outputs": [
    {
     "name": "stdout",
     "output_type": "stream",
     "text": [
      "action: 0, state: 0, reward: 0.0\n",
      "action: 0, state: 16, reward: 0.0\n",
      "action: 0, state: 32, reward: 0.0\n",
      "action: 1, state: 33, reward: 0.0\n"
     ]
    }
   ],
   "source": [
    "# take a look\n",
    "done = False\n",
    "state = env.reset()\n",
    "\n",
    "while not done:\n",
    "    # randomly pick an action\n",
    "    action = env.action_space.sample()\n",
    "    # get feedback from the environment\n",
    "    \n",
    "    obvervation, reward, done, done1, info = env.step(action)\n",
    "    print('action: {}, state: {}, reward: {}'.format(action, obvervation, round(reward, 10)))\n",
    "    # show the environment\n",
    "    env.render()"
   ]
  },
  {
   "cell_type": "code",
   "execution_count": 7,
   "metadata": {},
   "outputs": [],
   "source": [
    "# SARSA parameters\n",
    "alpha = 0.1   # learning rate #Explains how much we value the new information compared to the information we already have\n",
    "gamma = 0.9  # discount factor #Explains how much we value future rewards compared to the immediate reward\n",
    "\n",
    "# Training parameters\n",
    "n_episodes = 10  #explain how many times we want to run the environment\n",
    "n_max_steps = 1000   # maximum number of steps per episode\n",
    "\n",
    "# Exploration / Exploitation parameters\n",
    "epsilon = 1.0\n",
    "start_epsilon = 1.0  # start training by selecting purely random actions\n",
    "min_epsilon = 0.001  # the lowest epsilon allowed to decay to\n",
    "decay_rate = 0.00001"
   ]
  },
  {
   "cell_type": "code",
   "execution_count": 8,
   "metadata": {},
   "outputs": [
    {
     "data": {
      "text/plain": [
       "array([[0., 0., 0., 0.],\n",
       "       [0., 0., 0., 0.],\n",
       "       [0., 0., 0., 0.],\n",
       "       ...,\n",
       "       [0., 0., 0., 0.],\n",
       "       [0., 0., 0., 0.],\n",
       "       [0., 0., 0., 0.]])"
      ]
     },
     "execution_count": 8,
     "metadata": {},
     "output_type": "execute_result"
    }
   ],
   "source": [
    "Qtable = np.zeros((stat_space_size, action_space_size)) #initialize the Q table with zeros\n",
    "Qtable"
   ]
  },
  {
   "cell_type": "code",
   "execution_count": 9,
   "metadata": {},
   "outputs": [],
   "source": [
    "# This is our acting policy (epsilon-greedy), which selects an action for exploration/exploitation during training\n",
    "def epsilon_greedy(Qtable, state, epsilon):\n",
    "    # Generate a random number and compare to epsilon, if lower then explore, otherwise exploit\n",
    "    randnum = np.random.uniform(0, 1)\n",
    "    if randnum < epsilon:\n",
    "        action = env.action_space.sample()    # explore\n",
    "        # action = 2\n",
    "    else:\n",
    "        action = np.argmax(Qtable[state, :])  # exploit\n",
    "        # action = env.action_space.sample()\n",
    "        \n",
    "    return action\n",
    "    # return state"
   ]
  },
  {
   "cell_type": "code",
   "execution_count": 10,
   "metadata": {},
   "outputs": [],
   "source": [
    "# This function is to update the Qtable.\n",
    "def update_Q(Qtable, state, action, reward, next_state, next_action):\n",
    "    # 𝑄(𝑆𝑡,𝐴𝑡)=𝑄(𝑆𝑡,𝐴𝑡)+𝛼[𝑅𝑡+1+𝛾𝑄(𝑆𝑡+1,𝐴𝑡+1)−𝑄(𝑆𝑡,𝐴𝑡)]\n",
    "    Qtable[state][action] = Qtable[state][action] + alpha * (reward + gamma * (Qtable[next_state][next_action]) - Qtable[state][action])\n",
    "    # Qtable[state, action] += alpha * (reward + gamma * Qtable[next_state, next_action] - Qtable[state, action])\n",
    "    return Qtable"
   ]
  },
  {
   "cell_type": "code",
   "execution_count": 12,
   "metadata": {},
   "outputs": [],
   "source": [
    "# Linear Decay Epsilon\n",
    "def Calculate_epsilon_Linear(epsilon, min_epsilon, decay_rate):\n",
    "    epsilon = (start_epsilon - min_epsilon) * np.exp(-decay_rate * episode)\n",
    "    epsilon = max(min_epsilon, epsilon)\n",
    "    return epsilon"
   ]
  },
  {
   "cell_type": "code",
   "execution_count": 13,
   "metadata": {},
   "outputs": [],
   "source": [
    "# Exponential Decay Epsilon\n",
    "def Calculate_epsilon_Exponential(epsilon, min_epsilon, decay_rate):\n",
    "    # epsilon = epsilon * np.exp(-decay_rate * episode)\n",
    "    # epsilon = max(min_epsilon, epsilon)\n",
    "    # return epsilon\n",
    "    # decay_rate = 0.00001\n",
    "    decay_factor = (min_epsilon/ start_epsilon)**(1/(n_episodes-1)) #  n_episodes or n_max_steps\n",
    "    return epsilon * decay_factor"
   ]
  },
  {
   "cell_type": "code",
   "execution_count": 14,
   "metadata": {},
   "outputs": [],
   "source": [
    "# Discrete Interval Decay Epsilon\n",
    "def Calculate_epsilon_Discrete_Interval(epsilon, min_epsilon, decay_rate):\n",
    "    if episode % 100 == 0:\n",
    "        epsilon = epsilon * np.exp(-decay_rate * episode)\n",
    "        epsilon = max(min_epsilon, epsilon)\n",
    "    return epsilon"
   ]
  },
  {
   "cell_type": "code",
   "execution_count": 15,
   "metadata": {},
   "outputs": [
    {
     "data": {
      "image/png": "[encoded data removed]",
      "text/plain": [
       "<Figure size 640x480 with 1 Axes>"
      ]
     },
     "metadata": {},
     "output_type": "display_data"
    }
   ],
   "source": [
    "# plot the epsilon decay in 1000 episodes\n",
    "epsilon = start_epsilon\n",
    "epsilon_list = []\n",
    "for episode in range(n_episodes):\n",
    "    epsilon = Calculate_epsilon_Exponential(epsilon, min_epsilon, decay_rate)\n",
    "    epsilon_list.append(epsilon)\n",
    "plt.plot(epsilon_list)\n",
    "plt.show()\n",
    "\n",
    "# # Training"
   ]
  },
  {
   "cell_type": "code",
   "execution_count": 22,
   "metadata": {},
   "outputs": [],
   "source": [
    "\n",
    "def train(n_episodes, n_max_steps, start_epsilon, min_epsilon, decay_rate, Qtable):\n",
    "    epsilon = 1.\n",
    "    # reward_array = np.zeros(n_episodes)\n",
    "    for episode in range(n_episodes):\n",
    "        # Reset the environment at the start of each episode\n",
    "        state = env.reset()[0] \n",
    "\n",
    "        t = 0\n",
    "        total_rewards = 0\n",
    "        done = False\n",
    "        done1 = False\n",
    "        # Calculate epsilon value based on decay rate  #decrice the epsilon value\n",
    "        # epsilon = max(min_epsilon, (start_epsilon - min_epsilon)*np.exp(-decay_rate*episode))\n",
    "        epsilon = Calculate_epsilon_Exponential(epsilon, min_epsilon, decay_rate)\n",
    "        \n",
    "        # Choose an action using previously defined epsilon-greedy policy\n",
    "        action = epsilon_greedy(Qtable, state, epsilon)  # for first action\n",
    "        \n",
    "        # Loop until max number of steps per episode is reached or until the agent reaches the goal (done)        \n",
    "        for t in range(n_max_steps):\n",
    "             \n",
    "            # Perform the action in the environment, get reward and next state\n",
    "            next_state, reward, done, done1, info = env.step(action)\n",
    "            \n",
    "            reward = -10 if reward == 0 else (-1000 if reward < 0 else 1000)\n",
    "\n",
    "            total_rewards += reward\n",
    "           \n",
    "            \n",
    "            # Choose next action\n",
    "            next_action=epsilon_greedy(Qtable, next_state, epsilon)\n",
    "            \n",
    "            # Update Q-table\n",
    "            Qtable = update_Q(Qtable, state, action, reward, next_state, next_action)\n",
    "            \n",
    "            # Update current state \n",
    "            state = next_state\n",
    "            action = next_action\n",
    "            \n",
    "            # Finish the episode when done=True, i.e., reached the goal or fallen into a hole\n",
    "            if done or done1:\n",
    "                # reward_array[t] = reward\n",
    "                break\n",
    "            # epsilon = max(min_epsilon, (start_epsilon - min_epsilon)*np.exp(-decay_rate*episode)) ## result ==> actions = 0\n",
    "            \n",
    "                \n",
    "    # Return final Q-table\n",
    "    print(\"total_rewards\",total_rewards)\n",
    "    return Qtable"
   ]
  },
  {
   "cell_type": "code",
   "execution_count": null,
   "metadata": {},
   "outputs": [],
   "source": [
    "# Train\n",
    "Qtable = train(n_episodes, n_max_steps, start_epsilon, min_epsilon, decay_rate, Qtable)\n",
    "# Show Q-table\n",
    "Qtable"
   ]
  },
  {
   "cell_type": "code",
   "execution_count": null,
   "metadata": {},
   "outputs": [],
   "source": [
    "done = False\n",
    "\n",
    "current_state, info = env.reset()\n",
    "\n",
    "while not done:\n",
    "    action = np.argmax(Qtable[current_state])\n",
    "    current_state, reward, terminated, truncated, info = env.step(action)\n",
    "    if terminated or truncated:\n",
    "        done = not done"
   ]
  }
 ],
 "metadata": {
  "kernelspec": {
   "display_name": "Python 3",
   "language": "python",
   "name": "python3"
  },
  "language_info": {
   "codemirror_mode": {
    "name": "ipython",
    "version": 3
   },
   "file_extension": ".py",
   "mimetype": "text/x-python",
   "name": "python",
   "nbconvert_exporter": "python",
   "pygments_lexer": "ipython3",
   "version": "3.10.11"
  },
  "orig_nbformat": 4
 },
 "nbformat": 4,
 "nbformat_minor": 2
}
